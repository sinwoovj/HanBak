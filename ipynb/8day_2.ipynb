{
 "cells": [
  {
   "cell_type": "code",
   "execution_count": 1,
   "metadata": {},
   "outputs": [],
   "source": [
    "from pop.AI import Linear_Regression"
   ]
  },
  {
   "cell_type": "code",
   "execution_count": 2,
   "metadata": {},
   "outputs": [],
   "source": [
    "x_data = [[173], [171], [162], [187], [157], [169], [177], [159], [182]] #키(cm) -> 데이터(x)\n",
    "y_data = [[270], [275], [245], [280], [230], [265], [270], [250], [275]] #발크기(mm) -> 레이블/정답(y)"
   ]
  },
  {
   "cell_type": "code",
   "execution_count": 3,
   "metadata": {},
   "outputs": [],
   "source": [
    "linear = Linear_Regression(ckpt_name=\"height_feet\")"
   ]
  },
  {
   "cell_type": "code",
   "execution_count": 4,
   "metadata": {},
   "outputs": [],
   "source": [
    "linear.X_data = x_data\n",
    "linear.Y_data = y_data"
   ]
  },
  {
   "cell_type": "code",
   "execution_count": 6,
   "metadata": {},
   "outputs": [
    {
     "name": "stdout",
     "output_type": "stream",
     "text": [
      "550 step loss: 49.749202728271484\n",
      "600 step loss: 49.74662399291992\n",
      "650 step loss: 49.746498107910156\n",
      "700 step loss: 49.74644088745117\n",
      "750 step loss: 49.7463493347168\n",
      "800 step loss: 49.74630355834961\n",
      "850 step loss: 49.74635696411133\n",
      "900 step loss: 49.74637985229492\n",
      "950 step loss: 49.746273040771484\n",
      "1000 step loss: 49.74630355834961\n",
      "Training is done.\n",
      "Time spent: 2.7 s\n",
      "Training speed: 182.0 step/s\n"
     ]
    }
   ],
   "source": [
    "linear.train(500, 50)"
   ]
  }
 ],
 "metadata": {
  "kernelspec": {
   "display_name": "Python 3",
   "language": "python",
   "name": "python3"
  },
  "language_info": {
   "codemirror_mode": {
    "name": "ipython",
    "version": 3
   },
   "file_extension": ".py",
   "mimetype": "text/x-python",
   "name": "python",
   "nbconvert_exporter": "python",
   "pygments_lexer": "ipython3",
   "version": "3.6.9"
  },
  "orig_nbformat": 4
 },
 "nbformat": 4,
 "nbformat_minor": 2
}
