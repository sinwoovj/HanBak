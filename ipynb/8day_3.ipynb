{
 "cells": [
  {
   "cell_type": "code",
   "execution_count": 1,
   "metadata": {},
   "outputs": [],
   "source": [
    "from pop.AI import Linear_Regression"
   ]
  },
  {
   "cell_type": "code",
   "execution_count": 2,
   "metadata": {},
   "outputs": [],
   "source": [
    "append_x_data = [[190], [180], [170], [160], [150]]\n",
    "append_y_data = [[296], [263], [259], [242], [228]]"
   ]
  },
  {
   "cell_type": "code",
   "execution_count": 7,
   "metadata": {},
   "outputs": [
    {
     "name": "stdout",
     "output_type": "stream",
     "text": [
      "5500 step loss: 32.839134216308594\n",
      "6500 step loss: 32.81017303466797\n",
      "7500 step loss: 32.764984130859375\n",
      "8500 step loss: 32.696319580078125\n",
      "9500 step loss: 32.597412109375\n",
      "10500 step loss: 32.46715545654297\n",
      "11500 step loss: 32.31876754760742\n",
      "12500 step loss: 32.18364715576172\n",
      "13500 step loss: 32.097381591796875\n",
      "14500 step loss: 32.06538009643555\n",
      "15500 step loss: 32.060298919677734\n",
      "16500 step loss: 32.060115814208984\n",
      "17500 step loss: 32.060001373291016\n",
      "18500 step loss: 32.0599365234375\n",
      "19500 step loss: 32.06000900268555\n",
      "20500 step loss: 32.06005096435547\n",
      "21500 step loss: 32.060035705566406\n",
      "22500 step loss: 32.059940338134766\n",
      "23500 step loss: 32.0599479675293\n",
      "24500 step loss: 32.06006622314453\n",
      "Training is done.\n",
      "Time spent: 90.4 s\n",
      "Training speed: 221.1 step/s\n"
     ]
    }
   ],
   "source": [
    "linear = Linear_Regression(True, ckpt_name=\"height_feet\")\n",
    "linear.X_data = append_x_data\n",
    "linear.Y_data = append_y_data\n",
    "linear.train(20000, 1000)"
   ]
  }
 ],
 "metadata": {
  "kernelspec": {
   "display_name": "Python 3",
   "language": "python",
   "name": "python3"
  },
  "language_info": {
   "codemirror_mode": {
    "name": "ipython",
    "version": 3
   },
   "file_extension": ".py",
   "mimetype": "text/x-python",
   "name": "python",
   "nbconvert_exporter": "python",
   "pygments_lexer": "ipython3",
   "version": "3.6.9"
  },
  "orig_nbformat": 4
 },
 "nbformat": 4,
 "nbformat_minor": 2
}
